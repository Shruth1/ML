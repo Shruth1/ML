{
  "nbformat": 4,
  "nbformat_minor": 0,
  "metadata": {
    "colab": {
      "provenance": []
    },
    "kernelspec": {
      "name": "python3",
      "display_name": "Python 3"
    },
    "language_info": {
      "name": "python"
    }
  },
  "cells": [
    {
      "cell_type": "code",
      "execution_count": null,
      "metadata": {
        "colab": {
          "base_uri": "https://localhost:8080/",
          "height": 73
        },
        "id": "EgDVvpYAlRRF",
        "outputId": "ce308d02-6c7d-49b9-a25b-e73086be3e2f"
      },
      "outputs": [
        {
          "output_type": "display_data",
          "data": {
            "text/plain": [
              "<IPython.core.display.HTML object>"
            ],
            "text/html": [
              "\n",
              "     <input type=\"file\" id=\"files-d320a6bd-5cdd-4b13-8cb4-b2cc460fca57\" name=\"files[]\" multiple disabled\n",
              "        style=\"border:none\" />\n",
              "     <output id=\"result-d320a6bd-5cdd-4b13-8cb4-b2cc460fca57\">\n",
              "      Upload widget is only available when the cell has been executed in the\n",
              "      current browser session. Please rerun this cell to enable.\n",
              "      </output>\n",
              "      <script>// Copyright 2017 Google LLC\n",
              "//\n",
              "// Licensed under the Apache License, Version 2.0 (the \"License\");\n",
              "// you may not use this file except in compliance with the License.\n",
              "// You may obtain a copy of the License at\n",
              "//\n",
              "//      http://www.apache.org/licenses/LICENSE-2.0\n",
              "//\n",
              "// Unless required by applicable law or agreed to in writing, software\n",
              "// distributed under the License is distributed on an \"AS IS\" BASIS,\n",
              "// WITHOUT WARRANTIES OR CONDITIONS OF ANY KIND, either express or implied.\n",
              "// See the License for the specific language governing permissions and\n",
              "// limitations under the License.\n",
              "\n",
              "/**\n",
              " * @fileoverview Helpers for google.colab Python module.\n",
              " */\n",
              "(function(scope) {\n",
              "function span(text, styleAttributes = {}) {\n",
              "  const element = document.createElement('span');\n",
              "  element.textContent = text;\n",
              "  for (const key of Object.keys(styleAttributes)) {\n",
              "    element.style[key] = styleAttributes[key];\n",
              "  }\n",
              "  return element;\n",
              "}\n",
              "\n",
              "// Max number of bytes which will be uploaded at a time.\n",
              "const MAX_PAYLOAD_SIZE = 100 * 1024;\n",
              "\n",
              "function _uploadFiles(inputId, outputId) {\n",
              "  const steps = uploadFilesStep(inputId, outputId);\n",
              "  const outputElement = document.getElementById(outputId);\n",
              "  // Cache steps on the outputElement to make it available for the next call\n",
              "  // to uploadFilesContinue from Python.\n",
              "  outputElement.steps = steps;\n",
              "\n",
              "  return _uploadFilesContinue(outputId);\n",
              "}\n",
              "\n",
              "// This is roughly an async generator (not supported in the browser yet),\n",
              "// where there are multiple asynchronous steps and the Python side is going\n",
              "// to poll for completion of each step.\n",
              "// This uses a Promise to block the python side on completion of each step,\n",
              "// then passes the result of the previous step as the input to the next step.\n",
              "function _uploadFilesContinue(outputId) {\n",
              "  const outputElement = document.getElementById(outputId);\n",
              "  const steps = outputElement.steps;\n",
              "\n",
              "  const next = steps.next(outputElement.lastPromiseValue);\n",
              "  return Promise.resolve(next.value.promise).then((value) => {\n",
              "    // Cache the last promise value to make it available to the next\n",
              "    // step of the generator.\n",
              "    outputElement.lastPromiseValue = value;\n",
              "    return next.value.response;\n",
              "  });\n",
              "}\n",
              "\n",
              "/**\n",
              " * Generator function which is called between each async step of the upload\n",
              " * process.\n",
              " * @param {string} inputId Element ID of the input file picker element.\n",
              " * @param {string} outputId Element ID of the output display.\n",
              " * @return {!Iterable<!Object>} Iterable of next steps.\n",
              " */\n",
              "function* uploadFilesStep(inputId, outputId) {\n",
              "  const inputElement = document.getElementById(inputId);\n",
              "  inputElement.disabled = false;\n",
              "\n",
              "  const outputElement = document.getElementById(outputId);\n",
              "  outputElement.innerHTML = '';\n",
              "\n",
              "  const pickedPromise = new Promise((resolve) => {\n",
              "    inputElement.addEventListener('change', (e) => {\n",
              "      resolve(e.target.files);\n",
              "    });\n",
              "  });\n",
              "\n",
              "  const cancel = document.createElement('button');\n",
              "  inputElement.parentElement.appendChild(cancel);\n",
              "  cancel.textContent = 'Cancel upload';\n",
              "  const cancelPromise = new Promise((resolve) => {\n",
              "    cancel.onclick = () => {\n",
              "      resolve(null);\n",
              "    };\n",
              "  });\n",
              "\n",
              "  // Wait for the user to pick the files.\n",
              "  const files = yield {\n",
              "    promise: Promise.race([pickedPromise, cancelPromise]),\n",
              "    response: {\n",
              "      action: 'starting',\n",
              "    }\n",
              "  };\n",
              "\n",
              "  cancel.remove();\n",
              "\n",
              "  // Disable the input element since further picks are not allowed.\n",
              "  inputElement.disabled = true;\n",
              "\n",
              "  if (!files) {\n",
              "    return {\n",
              "      response: {\n",
              "        action: 'complete',\n",
              "      }\n",
              "    };\n",
              "  }\n",
              "\n",
              "  for (const file of files) {\n",
              "    const li = document.createElement('li');\n",
              "    li.append(span(file.name, {fontWeight: 'bold'}));\n",
              "    li.append(span(\n",
              "        `(${file.type || 'n/a'}) - ${file.size} bytes, ` +\n",
              "        `last modified: ${\n",
              "            file.lastModifiedDate ? file.lastModifiedDate.toLocaleDateString() :\n",
              "                                    'n/a'} - `));\n",
              "    const percent = span('0% done');\n",
              "    li.appendChild(percent);\n",
              "\n",
              "    outputElement.appendChild(li);\n",
              "\n",
              "    const fileDataPromise = new Promise((resolve) => {\n",
              "      const reader = new FileReader();\n",
              "      reader.onload = (e) => {\n",
              "        resolve(e.target.result);\n",
              "      };\n",
              "      reader.readAsArrayBuffer(file);\n",
              "    });\n",
              "    // Wait for the data to be ready.\n",
              "    let fileData = yield {\n",
              "      promise: fileDataPromise,\n",
              "      response: {\n",
              "        action: 'continue',\n",
              "      }\n",
              "    };\n",
              "\n",
              "    // Use a chunked sending to avoid message size limits. See b/62115660.\n",
              "    let position = 0;\n",
              "    do {\n",
              "      const length = Math.min(fileData.byteLength - position, MAX_PAYLOAD_SIZE);\n",
              "      const chunk = new Uint8Array(fileData, position, length);\n",
              "      position += length;\n",
              "\n",
              "      const base64 = btoa(String.fromCharCode.apply(null, chunk));\n",
              "      yield {\n",
              "        response: {\n",
              "          action: 'append',\n",
              "          file: file.name,\n",
              "          data: base64,\n",
              "        },\n",
              "      };\n",
              "\n",
              "      let percentDone = fileData.byteLength === 0 ?\n",
              "          100 :\n",
              "          Math.round((position / fileData.byteLength) * 100);\n",
              "      percent.textContent = `${percentDone}% done`;\n",
              "\n",
              "    } while (position < fileData.byteLength);\n",
              "  }\n",
              "\n",
              "  // All done.\n",
              "  yield {\n",
              "    response: {\n",
              "      action: 'complete',\n",
              "    }\n",
              "  };\n",
              "}\n",
              "\n",
              "scope.google = scope.google || {};\n",
              "scope.google.colab = scope.google.colab || {};\n",
              "scope.google.colab._files = {\n",
              "  _uploadFiles,\n",
              "  _uploadFilesContinue,\n",
              "};\n",
              "})(self);\n",
              "</script> "
            ]
          },
          "metadata": {}
        },
        {
          "output_type": "stream",
          "name": "stdout",
          "text": [
            "Saving customer.xlsx to customer.xlsx\n"
          ]
        }
      ],
      "source": [
        "#P Sai Shruthi\n",
        "#BL.EN.U4CSE21143\n",
        "from google.colab import files\n",
        "upload = files.upload()"
      ]
    },
    {
      "cell_type": "code",
      "source": [
        "import pandas as pd\n",
        "excel_file = \"customer.xlsx\"\n",
        "data = pd.read_excel(r\"customer.xlsx\")\n",
        "df = pd.DataFrame(data, columns=['Customer', 'Candies(#)','Mangoes(Kg)','Milk Pakets(#)',\"Payment(Rs)\"])\n",
        "print(data)\n"
      ],
      "metadata": {
        "colab": {
          "base_uri": "https://localhost:8080/"
        },
        "id": "x6Jb3YRPlr2D",
        "outputId": "138d0e67-032a-4535-d49d-b8543fc8f820"
      },
      "execution_count": null,
      "outputs": [
        {
          "output_type": "stream",
          "name": "stdout",
          "text": [
            "  Customer  Candies (#)  Mangoes (Kg)  Milk Packets (#)  Payment (Rs)\n",
            "0      C_1           20             6                 2           386\n",
            "1      C_2           16             3                 6           289\n",
            "2      C_3           27             6                 2           393\n",
            "3      C_4           19             1                 2           110\n",
            "4      C_5           24             4                 2           280\n",
            "5      C_6           22             1                 5           167\n",
            "6      C_7           15             4                 2           271\n",
            "7      C_8           18             4                 2           274\n",
            "8      C_9           21             1                 4           148\n",
            "9     C_10           16             2                 4           198\n"
          ]
        }
      ]
    },
    {
      "cell_type": "code",
      "source": [],
      "metadata": {
        "id": "XJR-xtgjsOte"
      },
      "execution_count": null,
      "outputs": []
    },
    {
      "cell_type": "code",
      "source": [
        "# A1,cost\n",
        "import pandas as pd\n",
        "import numpy as np\n",
        "\n",
        "\n",
        "excel_file = \"customer.xlsx\"\n",
        "sheet_name = \"Purchase data\"\n",
        "df = pd.read_excel(excel_file)\n",
        "column_names = [\"Payment (Rs)\"]\n",
        "arrays = [df[column].to_numpy() for column in column_names]\n",
        "\n",
        "# Print the arrays\n",
        "for column_name, array in zip(column_names, arrays):\n",
        "    print(f\"{column_name} array:\")\n",
        "    print(array)\n",
        "\n",
        "\n",
        "selected_columns = [\"Candies (#)\", \"Mangoes (Kg)\", \"Milk Packets (#)\"]\n",
        "selected_data = df[selected_columns]\n",
        "\n",
        "arrays = [list(row) for index, row in selected_data.iterrows()]\n",
        "\n",
        "larger_array = arrays\n",
        "my_array = np.array(larger_array)\n",
        "print(\"Larger Array:\")\n",
        "print(larger_array)\n",
        "\n",
        "Quantity = my_array\n",
        "\n",
        "Cost = array\n",
        "\n",
        "inverse_quantity = np.linalg.pinv(Quantity)\n",
        "\n",
        "Price = np.dot(inverse_quantity, Cost)\n",
        "\n",
        "print(\"Price vector:\")\n",
        "print(Price)\n"
      ],
      "metadata": {
        "colab": {
          "base_uri": "https://localhost:8080/"
        },
        "id": "LiScsQUOoPfK",
        "outputId": "8627da42-b3e9-48c5-d955-56ee1de2612d"
      },
      "execution_count": null,
      "outputs": [
        {
          "output_type": "stream",
          "name": "stdout",
          "text": [
            "Payment (Rs) array:\n",
            "[386 289 393 110 280 167 271 274 148 198]\n",
            "Larger Array:\n",
            "[[20, 6, 2], [16, 3, 6], [27, 6, 2], [19, 1, 2], [24, 4, 2], [22, 1, 5], [15, 4, 2], [18, 4, 2], [21, 1, 4], [16, 2, 4]]\n",
            "Price vector:\n",
            "[ 1. 55. 18.]\n"
          ]
        }
      ]
    },
    {
      "cell_type": "code",
      "source": [
        "#A1,rank\n",
        "import pandas as pd\n",
        "import numpy as np\n",
        "\n",
        "\n",
        "excel_file = \"customer.xlsx\"\n",
        "sheet_name = \"Purchase data\"\n",
        "df = pd.read_excel(excel_file)\n",
        "column_names = [\"Payment (Rs)\"]\n",
        "arrays = [df[column].to_numpy() for column in column_names]\n",
        "\n",
        "# Print the arrays\n",
        "for column_name, array in zip(column_names, arrays):\n",
        "    print(f\"{column_name} array:\")\n",
        "    print(array)\n",
        "\n",
        "\n",
        "selected_columns = [\"Candies (#)\", \"Mangoes (Kg)\", \"Milk Packets (#)\"]\n",
        "selected_data = df[selected_columns]\n",
        "\n",
        "arrays = [list(row) for index, row in selected_data.iterrows()]\n",
        "\n",
        "larger_array = arrays\n",
        "my_array = np.array(larger_array)\n",
        "print(\"Larger Array:\")\n",
        "print(larger_array)\n",
        "\n",
        "Quantity = my_array\n",
        "\n",
        "rank = np.linalg.matrix_rank(Quantity)\n",
        "for row in my_array:\n",
        "  print(row)\n",
        "\n",
        "print(\"Rank of the given matrix is: \",rank)"
      ],
      "metadata": {
        "colab": {
          "base_uri": "https://localhost:8080/"
        },
        "id": "qLlEvl7WocMq",
        "outputId": "707d9cac-f242-45fe-a2b3-29c2746b0bbb"
      },
      "execution_count": null,
      "outputs": [
        {
          "output_type": "stream",
          "name": "stdout",
          "text": [
            "Payment (Rs) array:\n",
            "[386 289 393 110 280 167 271 274 148 198]\n",
            "Larger Array:\n",
            "[[20, 6, 2], [16, 3, 6], [27, 6, 2], [19, 1, 2], [24, 4, 2], [22, 1, 5], [15, 4, 2], [18, 4, 2], [21, 1, 4], [16, 2, 4]]\n",
            "[20  6  2]\n",
            "[16  3  6]\n",
            "[27  6  2]\n",
            "[19  1  2]\n",
            "[24  4  2]\n",
            "[22  1  5]\n",
            "[15  4  2]\n",
            "[18  4  2]\n",
            "[21  1  4]\n",
            "[16  2  4]\n",
            "Rank of the given matrix is:  3\n"
          ]
        }
      ]
    },
    {
      "cell_type": "code",
      "source": [
        "#A1,dimensionality\n",
        "import pandas as pd\n",
        "import numpy as np\n",
        "\n",
        "excel_file = \"customer.xlsx\"\n",
        "sheet_name = \"Purchase data\"\n",
        "df = pd.read_excel(excel_file)\n",
        "\n",
        "selected_columns = [\"Candies (#)\", \"Mangoes (Kg)\", \"Milk Packets (#)\"]\n",
        "selected_data = df[selected_columns]\n",
        "\n",
        "arrays = [list(row) for index, row in selected_data.iterrows()]\n",
        "\n",
        "my_array = np.array(arrays)\n",
        "print(\"Matrix:\")\n",
        "print(my_array)\n",
        "\n",
        "num_rows, num_columns = my_array.shape\n",
        "\n",
        "print(\"Number of rows in the matrix:\", num_rows)\n",
        "print(\"Number of columns in the matrix:\", num_columns)\n"
      ],
      "metadata": {
        "colab": {
          "base_uri": "https://localhost:8080/"
        },
        "id": "SjHhz_alpPvk",
        "outputId": "ab9a4f5a-0c4a-4f42-fd3b-e1ab4710715c"
      },
      "execution_count": null,
      "outputs": [
        {
          "output_type": "stream",
          "name": "stdout",
          "text": [
            "Matrix:\n",
            "[[20  6  2]\n",
            " [16  3  6]\n",
            " [27  6  2]\n",
            " [19  1  2]\n",
            " [24  4  2]\n",
            " [22  1  5]\n",
            " [15  4  2]\n",
            " [18  4  2]\n",
            " [21  1  4]\n",
            " [16  2  4]]\n",
            "Number of rows in the matrix: 10\n",
            "Number of columns in the matrix: 3\n"
          ]
        }
      ]
    },
    {
      "cell_type": "code",
      "source": [
        "#A1, vector space\n",
        "import pandas as pd\n",
        "import numpy as np\n",
        "\n",
        "excel_file = \"customer.xlsx\"\n",
        "sheet_name = \"Purchase data\"\n",
        "df = pd.read_excel(excel_file)\n",
        "\n",
        "selected_columns = [\"Candies (#)\", \"Mangoes (Kg)\", \"Milk Packets (#)\"]\n",
        "selected_data = df[selected_columns]\n",
        "\n",
        "# Convert the selected data to a NumPy array\n",
        "my_array = selected_data.to_numpy()\n",
        "\n",
        "print(\"Matrix of Vectors:\")\n",
        "print(my_array)\n",
        "\n",
        "# Calculate the rank of the matrix\n",
        "rank = np.linalg.matrix_rank(my_array)\n",
        "\n",
        "print(\"Number of vectors in the vector space:\", rank)"
      ],
      "metadata": {
        "colab": {
          "base_uri": "https://localhost:8080/"
        },
        "id": "toXGHzJDpwWy",
        "outputId": "fca0a388-b873-4a43-cccf-e5cc4b16e093"
      },
      "execution_count": null,
      "outputs": [
        {
          "output_type": "stream",
          "name": "stdout",
          "text": [
            "Matrix of Vectors:\n",
            "[[20  6  2]\n",
            " [16  3  6]\n",
            " [27  6  2]\n",
            " [19  1  2]\n",
            " [24  4  2]\n",
            " [22  1  5]\n",
            " [15  4  2]\n",
            " [18  4  2]\n",
            " [21  1  4]\n",
            " [16  2  4]]\n",
            "Number of vectors in the vector space: 3\n"
          ]
        }
      ]
    },
    {
      "cell_type": "code",
      "source": [
        "#A2\n",
        "import pandas as pd\n",
        "import numpy as np\n",
        "\n",
        "\n",
        "excel_file = \"customer.xlsx\"\n",
        "sheet_name = \"Purchase data\"\n",
        "df = pd.read_excel(excel_file)\n",
        "\n",
        "# Define cost variable\n",
        "Y = df[\"Payment (Rs)\"].to_numpy()\n",
        "\n",
        "selected_columns = [\"Candies (#)\", \"Mangoes (Kg)\", \"Milk Packets (#)\"]\n",
        "X = df[selected_columns].to_numpy()\n",
        "\n",
        "# Adding column of ones for the intercept term\n",
        "X = np.column_stack((np.ones(X.shape[0]), X))\n",
        "\n",
        "X_pseudo_inverse = np.linalg.pinv(X)\n",
        "\n",
        "model_vector = np.dot(X_pseudo_inverse, Y)\n",
        "\n",
        "print(\"Model Vector (X):\")\n",
        "print(model_vector)"
      ],
      "metadata": {
        "colab": {
          "base_uri": "https://localhost:8080/"
        },
        "id": "D7UBlsy2qCgl",
        "outputId": "09eeab2e-09c0-4786-abce-5bfad8e69bef"
      },
      "execution_count": null,
      "outputs": [
        {
          "output_type": "stream",
          "name": "stdout",
          "text": [
            "Model Vector (X):\n",
            "[ 0.  1. 55. 18.]\n"
          ]
        }
      ]
    },
    {
      "cell_type": "code",
      "source": [
        "#A3\n",
        "import pandas as pd\n",
        "import numpy as np\n",
        "\n",
        "excel_file = \"customer.xlsx\"\n",
        "sheet_name = \"Purchase data\"\n",
        "df = pd.read_excel(excel_file)\n",
        "\n",
        "# Adding column for RICH/POOR categorization\n",
        "df['Customer Category'] = np.where(df['Payment (Rs)'] > 200, 'RICH', 'POOR')\n",
        "\n",
        "print(df)\n",
        "\n",
        "selected_columns = [\"Candies (#)\", \"Mangoes (Kg)\", \"Milk Packets (#)\"]\n",
        "selected_data = df[selected_columns]\n",
        "\n",
        "arrays = [list(row) for index, row in selected_data.iterrows()]\n",
        "\n",
        "larger_array = arrays\n",
        "my_array = np.array(larger_array)\n",
        "print(\"Larger Array:\")\n",
        "print(larger_array)\n",
        "\n",
        "Quantity = my_array\n",
        "\n",
        "rank = np.linalg.matrix_rank(Quantity)\n",
        "for row in my_array:\n",
        "  print(row)\n",
        "\n",
        "print(\"Rank of the given matrix is: \",rank)\n"
      ],
      "metadata": {
        "colab": {
          "base_uri": "https://localhost:8080/"
        },
        "id": "s4EGY36Iq_-W",
        "outputId": "cfaf4546-9599-460f-dcf3-b3128189e400"
      },
      "execution_count": null,
      "outputs": [
        {
          "output_type": "stream",
          "name": "stdout",
          "text": [
            "  Customer  Candies (#)  Mangoes (Kg)  Milk Packets (#)  Payment (Rs)  \\\n",
            "0      C_1           20             6                 2           386   \n",
            "1      C_2           16             3                 6           289   \n",
            "2      C_3           27             6                 2           393   \n",
            "3      C_4           19             1                 2           110   \n",
            "4      C_5           24             4                 2           280   \n",
            "5      C_6           22             1                 5           167   \n",
            "6      C_7           15             4                 2           271   \n",
            "7      C_8           18             4                 2           274   \n",
            "8      C_9           21             1                 4           148   \n",
            "9     C_10           16             2                 4           198   \n",
            "\n",
            "  Customer Category  \n",
            "0              RICH  \n",
            "1              RICH  \n",
            "2              RICH  \n",
            "3              POOR  \n",
            "4              RICH  \n",
            "5              POOR  \n",
            "6              RICH  \n",
            "7              RICH  \n",
            "8              POOR  \n",
            "9              POOR  \n",
            "Larger Array:\n",
            "[[20, 6, 2], [16, 3, 6], [27, 6, 2], [19, 1, 2], [24, 4, 2], [22, 1, 5], [15, 4, 2], [18, 4, 2], [21, 1, 4], [16, 2, 4]]\n",
            "[20  6  2]\n",
            "[16  3  6]\n",
            "[27  6  2]\n",
            "[19  1  2]\n",
            "[24  4  2]\n",
            "[22  1  5]\n",
            "[15  4  2]\n",
            "[18  4  2]\n",
            "[21  1  4]\n",
            "[16  2  4]\n",
            "Rank of the given matrix is:  3\n"
          ]
        }
      ]
    },
    {
      "cell_type": "code",
      "source": [
        "#A4\n",
        "from google.colab import files\n",
        "upload = files.upload()"
      ],
      "metadata": {
        "colab": {
          "base_uri": "https://localhost:8080/",
          "height": 73
        },
        "id": "sJs67hc4ry9u",
        "outputId": "96436221-4420-4ba7-b302-9cb14b7ca977"
      },
      "execution_count": null,
      "outputs": [
        {
          "output_type": "display_data",
          "data": {
            "text/plain": [
              "<IPython.core.display.HTML object>"
            ],
            "text/html": [
              "\n",
              "     <input type=\"file\" id=\"files-9061a7cd-6200-4202-bf5e-9627392e224b\" name=\"files[]\" multiple disabled\n",
              "        style=\"border:none\" />\n",
              "     <output id=\"result-9061a7cd-6200-4202-bf5e-9627392e224b\">\n",
              "      Upload widget is only available when the cell has been executed in the\n",
              "      current browser session. Please rerun this cell to enable.\n",
              "      </output>\n",
              "      <script>// Copyright 2017 Google LLC\n",
              "//\n",
              "// Licensed under the Apache License, Version 2.0 (the \"License\");\n",
              "// you may not use this file except in compliance with the License.\n",
              "// You may obtain a copy of the License at\n",
              "//\n",
              "//      http://www.apache.org/licenses/LICENSE-2.0\n",
              "//\n",
              "// Unless required by applicable law or agreed to in writing, software\n",
              "// distributed under the License is distributed on an \"AS IS\" BASIS,\n",
              "// WITHOUT WARRANTIES OR CONDITIONS OF ANY KIND, either express or implied.\n",
              "// See the License for the specific language governing permissions and\n",
              "// limitations under the License.\n",
              "\n",
              "/**\n",
              " * @fileoverview Helpers for google.colab Python module.\n",
              " */\n",
              "(function(scope) {\n",
              "function span(text, styleAttributes = {}) {\n",
              "  const element = document.createElement('span');\n",
              "  element.textContent = text;\n",
              "  for (const key of Object.keys(styleAttributes)) {\n",
              "    element.style[key] = styleAttributes[key];\n",
              "  }\n",
              "  return element;\n",
              "}\n",
              "\n",
              "// Max number of bytes which will be uploaded at a time.\n",
              "const MAX_PAYLOAD_SIZE = 100 * 1024;\n",
              "\n",
              "function _uploadFiles(inputId, outputId) {\n",
              "  const steps = uploadFilesStep(inputId, outputId);\n",
              "  const outputElement = document.getElementById(outputId);\n",
              "  // Cache steps on the outputElement to make it available for the next call\n",
              "  // to uploadFilesContinue from Python.\n",
              "  outputElement.steps = steps;\n",
              "\n",
              "  return _uploadFilesContinue(outputId);\n",
              "}\n",
              "\n",
              "// This is roughly an async generator (not supported in the browser yet),\n",
              "// where there are multiple asynchronous steps and the Python side is going\n",
              "// to poll for completion of each step.\n",
              "// This uses a Promise to block the python side on completion of each step,\n",
              "// then passes the result of the previous step as the input to the next step.\n",
              "function _uploadFilesContinue(outputId) {\n",
              "  const outputElement = document.getElementById(outputId);\n",
              "  const steps = outputElement.steps;\n",
              "\n",
              "  const next = steps.next(outputElement.lastPromiseValue);\n",
              "  return Promise.resolve(next.value.promise).then((value) => {\n",
              "    // Cache the last promise value to make it available to the next\n",
              "    // step of the generator.\n",
              "    outputElement.lastPromiseValue = value;\n",
              "    return next.value.response;\n",
              "  });\n",
              "}\n",
              "\n",
              "/**\n",
              " * Generator function which is called between each async step of the upload\n",
              " * process.\n",
              " * @param {string} inputId Element ID of the input file picker element.\n",
              " * @param {string} outputId Element ID of the output display.\n",
              " * @return {!Iterable<!Object>} Iterable of next steps.\n",
              " */\n",
              "function* uploadFilesStep(inputId, outputId) {\n",
              "  const inputElement = document.getElementById(inputId);\n",
              "  inputElement.disabled = false;\n",
              "\n",
              "  const outputElement = document.getElementById(outputId);\n",
              "  outputElement.innerHTML = '';\n",
              "\n",
              "  const pickedPromise = new Promise((resolve) => {\n",
              "    inputElement.addEventListener('change', (e) => {\n",
              "      resolve(e.target.files);\n",
              "    });\n",
              "  });\n",
              "\n",
              "  const cancel = document.createElement('button');\n",
              "  inputElement.parentElement.appendChild(cancel);\n",
              "  cancel.textContent = 'Cancel upload';\n",
              "  const cancelPromise = new Promise((resolve) => {\n",
              "    cancel.onclick = () => {\n",
              "      resolve(null);\n",
              "    };\n",
              "  });\n",
              "\n",
              "  // Wait for the user to pick the files.\n",
              "  const files = yield {\n",
              "    promise: Promise.race([pickedPromise, cancelPromise]),\n",
              "    response: {\n",
              "      action: 'starting',\n",
              "    }\n",
              "  };\n",
              "\n",
              "  cancel.remove();\n",
              "\n",
              "  // Disable the input element since further picks are not allowed.\n",
              "  inputElement.disabled = true;\n",
              "\n",
              "  if (!files) {\n",
              "    return {\n",
              "      response: {\n",
              "        action: 'complete',\n",
              "      }\n",
              "    };\n",
              "  }\n",
              "\n",
              "  for (const file of files) {\n",
              "    const li = document.createElement('li');\n",
              "    li.append(span(file.name, {fontWeight: 'bold'}));\n",
              "    li.append(span(\n",
              "        `(${file.type || 'n/a'}) - ${file.size} bytes, ` +\n",
              "        `last modified: ${\n",
              "            file.lastModifiedDate ? file.lastModifiedDate.toLocaleDateString() :\n",
              "                                    'n/a'} - `));\n",
              "    const percent = span('0% done');\n",
              "    li.appendChild(percent);\n",
              "\n",
              "    outputElement.appendChild(li);\n",
              "\n",
              "    const fileDataPromise = new Promise((resolve) => {\n",
              "      const reader = new FileReader();\n",
              "      reader.onload = (e) => {\n",
              "        resolve(e.target.result);\n",
              "      };\n",
              "      reader.readAsArrayBuffer(file);\n",
              "    });\n",
              "    // Wait for the data to be ready.\n",
              "    let fileData = yield {\n",
              "      promise: fileDataPromise,\n",
              "      response: {\n",
              "        action: 'continue',\n",
              "      }\n",
              "    };\n",
              "\n",
              "    // Use a chunked sending to avoid message size limits. See b/62115660.\n",
              "    let position = 0;\n",
              "    do {\n",
              "      const length = Math.min(fileData.byteLength - position, MAX_PAYLOAD_SIZE);\n",
              "      const chunk = new Uint8Array(fileData, position, length);\n",
              "      position += length;\n",
              "\n",
              "      const base64 = btoa(String.fromCharCode.apply(null, chunk));\n",
              "      yield {\n",
              "        response: {\n",
              "          action: 'append',\n",
              "          file: file.name,\n",
              "          data: base64,\n",
              "        },\n",
              "      };\n",
              "\n",
              "      let percentDone = fileData.byteLength === 0 ?\n",
              "          100 :\n",
              "          Math.round((position / fileData.byteLength) * 100);\n",
              "      percent.textContent = `${percentDone}% done`;\n",
              "\n",
              "    } while (position < fileData.byteLength);\n",
              "  }\n",
              "\n",
              "  // All done.\n",
              "  yield {\n",
              "    response: {\n",
              "      action: 'complete',\n",
              "    }\n",
              "  };\n",
              "}\n",
              "\n",
              "scope.google = scope.google || {};\n",
              "scope.google.colab = scope.google.colab || {};\n",
              "scope.google.colab._files = {\n",
              "  _uploadFiles,\n",
              "  _uploadFilesContinue,\n",
              "};\n",
              "})(self);\n",
              "</script> "
            ]
          },
          "metadata": {}
        },
        {
          "output_type": "stream",
          "name": "stdout",
          "text": [
            "Saving IRCTC.xlsx to IRCTC.xlsx\n"
          ]
        }
      ]
    },
    {
      "cell_type": "code",
      "source": [
        "import pandas as pd\n",
        "excel_file = \"IRCTC.xlsx\"\n",
        "data = pd.read_excel(r\"IRCTC.xlsx\")\n",
        "df = pd.DataFrame(data, columns=['Date', 'Month','Day','Price','Open','High','Low','Volume','Chg%'])\n",
        "print(data)"
      ],
      "metadata": {
        "colab": {
          "base_uri": "https://localhost:8080/"
        },
        "id": "eaQSkP1gsQj_",
        "outputId": "a7757c3c-9ea6-48eb-9d76-74cf712e8019"
      },
      "execution_count": null,
      "outputs": [
        {
          "output_type": "stream",
          "name": "stdout",
          "text": [
            "             Date Month  Day    Price     Open     High      Low   Volume  \\\n",
            "0    Jun 29, 2021   Jun  Tue  2081.85  2092.00  2126.90  2065.05    1.67M   \n",
            "1    Jun 28, 2021   Jun  Mon  2077.75  2084.00  2112.45  2068.40  707.73K   \n",
            "2    Jun 25, 2021   Jun  Fri  2068.85  2084.35  2088.50  2053.10  475.82K   \n",
            "3    Jun 24, 2021   Jun  Thu  2072.95  2098.00  2098.00  2066.00  541.51K   \n",
            "4    Jun 23, 2021   Jun  Wed  2078.25  2102.00  2111.40  2072.00  809.62K   \n",
            "..            ...   ...  ...      ...      ...      ...      ...      ...   \n",
            "244  Jul 07, 2020   Jul  Tue  1397.40  1410.00  1411.00  1390.05  480.21K   \n",
            "245  Jul 06, 2020   Jul  Mon  1400.75  1405.50  1415.50  1394.00  614.93K   \n",
            "246  Jul 03, 2020   Jul  Fri  1405.10  1415.00  1425.00  1398.00  599.49K   \n",
            "247  Jul 02, 2020   Jul  Thu  1412.35  1440.00  1467.80  1395.30    2.16M   \n",
            "248  Jul 01, 2020   Jul  Wed  1363.05  1363.65  1377.00  1356.00  383.00K   \n",
            "\n",
            "       Chg%  \n",
            "0    0.0020  \n",
            "1    0.0043  \n",
            "2   -0.0020  \n",
            "3   -0.0026  \n",
            "4   -0.0023  \n",
            "..      ...  \n",
            "244 -0.0024  \n",
            "245 -0.0031  \n",
            "246 -0.0051  \n",
            "247  0.0362  \n",
            "248  0.0032  \n",
            "\n",
            "[249 rows x 9 columns]\n"
          ]
        }
      ]
    },
    {
      "cell_type": "code",
      "source": [
        "#A4 mean, variance\n",
        "import pandas as pd\n",
        "import statistics\n",
        "\n",
        "excel_file = \"IRCTC.xlsx\"\n",
        "data = pd.read_excel(excel_file)\n",
        "\n",
        "\n",
        "price_data = data['Price']\n",
        "\n",
        "mean_price = statistics.mean(price_data)\n",
        "variance_price = statistics.variance(price_data)\n",
        "\n",
        "# Print the results\n",
        "print(f\"Mean Price: {mean_price}\")\n",
        "print(f\"Variance of Price: {variance_price}\")"
      ],
      "metadata": {
        "colab": {
          "base_uri": "https://localhost:8080/"
        },
        "id": "JSQcLOEatq_B",
        "outputId": "42e1f9a5-8b9c-4bec-e5a9-abf51d8c0716"
      },
      "execution_count": null,
      "outputs": [
        {
          "output_type": "stream",
          "name": "stdout",
          "text": [
            "Mean Price: 1560.663453815261\n",
            "Variance of Price: 58732.365352539186\n"
          ]
        }
      ]
    },
    {
      "cell_type": "code",
      "source": [
        "#A4 , wednesdays sample mean\n",
        "import pandas as pd\n",
        "import numpy as np\n",
        "excel_file = \"IRCTC.xlsx\"\n",
        "data = pd.read_excel(excel_file)\n",
        "\n",
        "#including only Wednesdays\n",
        "wednesday_data = data[data['Day'] == 'Wed']\n",
        "\n",
        "sample_mean = np.mean(wednesday_data['Price'])\n",
        "\n",
        "# Calculating population mean\n",
        "population_mean = np.mean(data['Price'])\n",
        "\n",
        "print(\"Sample Mean (Wednesday Prices):\", sample_mean)\n",
        "print(\"Population Mean (All Prices):\", population_mean)\n",
        "\n",
        "# Comparison\n",
        "if sample_mean > population_mean:\n",
        "    print(\"Sample mean is greater than the population mean.\")\n",
        "elif sample_mean < population_mean:\n",
        "    print(\"Sample mean is less than the population mean.\")\n",
        "else:\n",
        "    print(\"Sample mean is equal to the population mean.\")\n",
        "\n"
      ],
      "metadata": {
        "colab": {
          "base_uri": "https://localhost:8080/"
        },
        "id": "4BD5-Q9buNm2",
        "outputId": "c7924064-13ba-43a0-f014-2e81f54b7ba1"
      },
      "execution_count": null,
      "outputs": [
        {
          "output_type": "stream",
          "name": "stdout",
          "text": [
            "Sample Mean (Wednesday Prices): 1550.7060000000001\n",
            "Population Mean (All Prices): 1560.6634538152612\n",
            "Sample mean is less than the population mean.\n"
          ]
        }
      ]
    },
    {
      "cell_type": "code",
      "source": [
        "#A4, april\n",
        "import pandas as pd\n",
        "import numpy as np\n",
        "\n",
        "excel_file = \"IRCTC.xlsx\"\n",
        "data = pd.read_excel(excel_file)\n",
        "\n",
        "april_data = data[data['Month'] == 'Apr']\n",
        "\n",
        "sample_mean = np.mean(april_data['Price'])\n",
        "\n",
        "population_mean = np.mean(data['Price'])\n",
        "\n",
        "print(\"Sample Mean for April Price Data:\", sample_mean)\n",
        "print(\"Population Mean for Price Data:\", population_mean)\n",
        "\n",
        "if sample_mean > population_mean:\n",
        "    print(\"Sample mean is greater than population mean.\")\n",
        "elif sample_mean < population_mean:\n",
        "    print(\"Sample mean is less than population mean.\")\n",
        "else:\n",
        "    print(\"Sample mean is equal to population mean.\")\n",
        "\n"
      ],
      "metadata": {
        "colab": {
          "base_uri": "https://localhost:8080/"
        },
        "id": "MnVcsk8kwAq-",
        "outputId": "39b2d284-3a1a-4b0a-a262-5d3780a2eff5"
      },
      "execution_count": null,
      "outputs": [
        {
          "output_type": "stream",
          "name": "stdout",
          "text": [
            "Sample Mean for April Price Data: 1698.9526315789474\n",
            "Population Mean for Price Data: 1560.6634538152612\n",
            "Sample mean is greater than population mean.\n"
          ]
        }
      ]
    },
    {
      "cell_type": "code",
      "source": [
        "#A4, probability of making loss over the stock\n",
        "import pandas as pd\n",
        "import numpy as np\n",
        "\n",
        "excel_file = \"IRCTC.xlsx\"\n",
        "data = pd.read_excel(excel_file)\n",
        "df = pd.DataFrame(data, columns=['Date', 'Month', 'Day', 'Price', 'Open', 'High', 'Low', 'Volume', 'Chg%'])\n",
        "\n",
        "# using lambda function\n",
        "loss_df = df[df['Chg%'].apply(lambda x: x < 0)]\n",
        "\n",
        "probability_of_loss = len(loss_df) / len(df)\n",
        "\n",
        "print(f\"Probability of making a loss: {probability_of_loss:.2%}\")\n"
      ],
      "metadata": {
        "colab": {
          "base_uri": "https://localhost:8080/"
        },
        "id": "AFlWlw6Cwi3Y",
        "outputId": "2626e9bd-64eb-4c23-a2d0-4372d9145614"
      },
      "execution_count": null,
      "outputs": [
        {
          "output_type": "stream",
          "name": "stdout",
          "text": [
            "Probability of making a loss: 49.80%\n"
          ]
        }
      ]
    },
    {
      "cell_type": "code",
      "source": [
        "#A4, probability of making profit on a wednesday\n",
        "import pandas as pd\n",
        "import numpy as np\n",
        "\n",
        "excel_file = \"IRCTC.xlsx\"\n",
        "data = pd.read_excel(excel_file)\n",
        "\n",
        "wednesday_data = data[data['Day'] == 'Wed']\n",
        "\n",
        "wednesday_data['Profit'] = wednesday_data['Price'] - wednesday_data['Open']\n",
        "\n",
        "profit_probability = (wednesday_data['Profit'] > 0).mean() * 100\n",
        "\n",
        "print(\"Probability of making a profit on Wednesday: {:.2f}%\".format(profit_probability))\n"
      ],
      "metadata": {
        "colab": {
          "base_uri": "https://localhost:8080/"
        },
        "id": "d7v5zp7Cw2tZ",
        "outputId": "64d0d5f3-1a04-4feb-f7c9-7fe21530db38"
      },
      "execution_count": null,
      "outputs": [
        {
          "output_type": "stream",
          "name": "stdout",
          "text": [
            "Probability of making a profit on Wednesday: 36.00%\n"
          ]
        },
        {
          "output_type": "stream",
          "name": "stderr",
          "text": [
            "<ipython-input-21-5fdf0110a8f3>:10: SettingWithCopyWarning: \n",
            "A value is trying to be set on a copy of a slice from a DataFrame.\n",
            "Try using .loc[row_indexer,col_indexer] = value instead\n",
            "\n",
            "See the caveats in the documentation: https://pandas.pydata.org/pandas-docs/stable/user_guide/indexing.html#returning-a-view-versus-a-copy\n",
            "  wednesday_data['Profit'] = wednesday_data['Price'] - wednesday_data['Open']\n"
          ]
        }
      ]
    },
    {
      "cell_type": "code",
      "source": [
        "#A4, conditional prob\n",
        "import pandas as pd\n",
        "import numpy as np\n",
        "\n",
        "excel_file = \"IRCTC.xlsx\"\n",
        "data = pd.read_excel(excel_file)\n",
        "df = pd.DataFrame(data, columns=['Date', 'Month', 'Day', 'Price', 'Open', 'High', 'Low', 'Volume', 'Chg%'])\n",
        "\n",
        "wednesday_data = df[df['Day'] == 'Wed']\n",
        "\n",
        "profitable_wednesdays = wednesday_data[wednesday_data['Chg%'] > 0]\n",
        "\n",
        "total_wednesdays = len(wednesday_data)\n",
        "\n",
        "conditional_probability = len(profitable_wednesdays) / total_wednesdays\n",
        "\n",
        "print(f\"Conditional Probability of Making Profit on Wednesdays: {conditional_probability:.2%}\")\n"
      ],
      "metadata": {
        "colab": {
          "base_uri": "https://localhost:8080/"
        },
        "id": "28EjNI9LxOuf",
        "outputId": "fef9b5a5-ab23-4759-f7bf-df4039cbfef1"
      },
      "execution_count": null,
      "outputs": [
        {
          "output_type": "stream",
          "name": "stdout",
          "text": [
            "Conditional Probability of Making Profit on Wednesdays: 42.00%\n"
          ]
        }
      ]
    },
    {
      "cell_type": "code",
      "source": [
        "#A4, scatter plot\n",
        "import pandas as pd\n",
        "import numpy as np\n",
        "import matplotlib.pyplot as plt\n",
        "\n",
        "excel_file = \"IRCTC.xlsx\"\n",
        "data = pd.read_excel(excel_file)\n",
        "\n",
        "data['Date'] = pd.to_datetime(data['Date'])\n",
        "data['DayOfWeek'] = data['Date'].dt.dayofweek\n",
        "\n",
        "# Create a scatter plot\n",
        "plt.figure(figsize=(10, 6))\n",
        "plt.scatter(data['DayOfWeek'], data['Chg%'], alpha=0.5)\n",
        "plt.xlabel('Day of the Week')\n",
        "plt.ylabel('Chg%')\n",
        "plt.title('Scatter Plot of Chg% vs. Day of the Week')\n",
        "plt.xticks(range(7), ['Mon', 'Tue', 'Wed', 'Thur', 'Fri', 'Sat', 'Sun'])\n",
        "plt.grid(True)\n",
        "plt.show()\n"
      ],
      "metadata": {
        "colab": {
          "base_uri": "https://localhost:8080/",
          "height": 564
        },
        "id": "1XuTL_Ymymdm",
        "outputId": "2c48c7e1-12f0-4c1f-9432-7ee2aad6225a"
      },
      "execution_count": null,
      "outputs": [
        {
          "output_type": "display_data",
          "data": {
            "text/plain": [
              "<Figure size 1000x600 with 1 Axes>"
            ],
            "image/png": "[encoded data removed]"
          },
          "metadata": {}
        }
      ]
    },
    {
      "cell_type": "code",
      "source": [],
      "metadata": {
        "id": "Anks2PyOxOx-"
      },
      "execution_count": null,
      "outputs": []
    }
  ]
}